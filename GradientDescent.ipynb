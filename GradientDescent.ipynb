{
 "cells": [
  {
   "cell_type": "code",
   "execution_count": 8,
   "metadata": {},
   "outputs": [],
   "source": [
    "#Least of squares with gradient decent\n",
    "import numpy as np\n",
    "import matplotlib.pyplot as plt"
   ]
  },
  {
   "cell_type": "code",
   "execution_count": 9,
   "metadata": {},
   "outputs": [],
   "source": [
    "#Define Parameters\n",
    "alpha = 0.1;\n",
    "tol=1e-10;"
   ]
  },
  {
   "cell_type": "code",
   "execution_count": 10,
   "metadata": {},
   "outputs": [],
   "source": [
    "#X Matrix and y Values\n",
    "x=np.linspace(0,2,num=25);\n",
    "X=np.ones([25,2]);\n",
    "Y = np.zeros([25,1]);\n",
    "for i in range(x.size):\n",
    "    X[i][1]=x[i];\n",
    "    Y[i][0] = 1+(3*x[i])+np.random.normal(0,1);"
   ]
  },
  {
   "cell_type": "code",
   "execution_count": 11,
   "metadata": {},
   "outputs": [],
   "source": [
    "N = x.size;\n",
    "p = X[0].size; #Number of columns in X\n",
    "beta = np.zeros([p,1]);\n",
    "err =1.0;\n",
    "iterations=0;"
   ]
  },
  {
   "cell_type": "code",
   "execution_count": 12,
   "metadata": {},
   "outputs": [],
   "source": [
    "#Analytical solution inv(X'*X)*X'*y;\n",
    "transX =np.transpose(X);\n",
    "beta_a= np.linalg.inv(transX.dot(X));\n",
    "beta_a= beta_a.dot(transX);\n",
    "beta_a=beta_a.dot(Y);"
   ]
  },
  {
   "cell_type": "code",
   "execution_count": 13,
   "metadata": {},
   "outputs": [
    {
     "name": "stdout",
     "output_type": "stream",
     "text": [
      "[[0.94595668]\n",
      " [2.67721989]]\n"
     ]
    }
   ],
   "source": [
    "#Gradient Descent Method\n",
    "while err > tol:\n",
    "    J = np.transpose(X.dot(beta)-Y).dot(X.dot(beta)-Y);\n",
    "    gradient = np.transpose(X.dot(beta)-Y).dot(X);\n",
    "    gradient = np.transpose(gradient);\n",
    "    beta =beta - (2*(alpha/N)*(gradient));\n",
    "    err = np.absolute(J-(np.transpose(X.dot(beta)-Y).dot(X.dot(beta)-Y)));\n",
    "print(beta)"
   ]
  },
  {
   "cell_type": "code",
   "execution_count": 17,
   "metadata": {},
   "outputs": [
    {
     "data": {
      "text/plain": [
       "[<matplotlib.lines.Line2D at 0x7fccd5f269a0>]"
      ]
     },
     "execution_count": 17,
     "metadata": {},
     "output_type": "execute_result"
    },
    {
     "data": {
      "image/png": "[encoded data removed]",
      "text/plain": [
       "<Figure size 600x400 with 1 Axes>"
      ]
     },
     "metadata": {
      "needs_background": "light"
     },
     "output_type": "display_data"
    }
   ],
   "source": [
    "#Plot Solutions\n",
    "y2 = X.dot(beta_a) #Using Analytical Method\n",
    "y3 = X.dot(beta) #Using Gradient Descent\n",
    "\n",
    "plot1 = plt.figure(1,figsize=(6,4), dpi=100)\n",
    "plt.title('Least of Squares')\n",
    "plt.plot(x,Y,'b.')\n",
    "plt.plot(x,y2,'r')\n",
    "plt.plot(x,y3,'gx')\n"
   ]
  },
  {
   "cell_type": "code",
   "execution_count": null,
   "metadata": {},
   "outputs": [],
   "source": []
  },
  {
   "cell_type": "code",
   "execution_count": null,
   "metadata": {},
   "outputs": [],
   "source": []
  }
 ],
 "metadata": {
  "kernelspec": {
   "display_name": "Python 3",
   "language": "python",
   "name": "python3"
  },
  "language_info": {
   "codemirror_mode": {
    "name": "ipython",
    "version": 3
   },
   "file_extension": ".py",
   "mimetype": "text/x-python",
   "name": "python",
   "nbconvert_exporter": "python",
   "pygments_lexer": "ipython3",
   "version": "3.8.3"
  },
  "latex_envs": {
   "LaTeX_envs_menu_present": true,
   "autoclose": false,
   "autocomplete": true,
   "bibliofile": "biblio.bib",
   "cite_by": "apalike",
   "current_citInitial": 1,
   "eqLabelWithNumbers": true,
   "eqNumInitial": 1,
   "hotkeys": {
    "equation": "Ctrl-E",
    "itemize": "Ctrl-I"
   },
   "labels_anchors": false,
   "latex_user_defs": false,
   "report_style_numbering": false,
   "user_envs_cfg": false
  },
  "nbTranslate": {
   "displayLangs": [
    "*"
   ],
   "hotkey": "alt-t",
   "langInMainMenu": true,
   "sourceLang": "en",
   "targetLang": "fr",
   "useGoogleTranslate": true
  },
  "toc": {
   "base_numbering": 1,
   "nav_menu": {},
   "number_sections": true,
   "sideBar": true,
   "skip_h1_title": false,
   "title_cell": "Table of Contents",
   "title_sidebar": "Contents",
   "toc_cell": false,
   "toc_position": {},
   "toc_section_display": true,
   "toc_window_display": false
  }
 },
 "nbformat": 4,
 "nbformat_minor": 4
}
