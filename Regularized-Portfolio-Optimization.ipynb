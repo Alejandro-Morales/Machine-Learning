{
 "cells": [
  {
   "cell_type": "code",
   "execution_count": 1,
   "metadata": {},
   "outputs": [],
   "source": [
    "# Regularized Portfolio Optimization\n",
    "import numpy as np\n",
    "import matplotlib.pyplot as plt"
   ]
  },
  {
   "cell_type": "code",
   "execution_count": 5,
   "metadata": {},
   "outputs": [
    {
     "name": "stdout",
     "output_type": "stream",
     "text": [
      "200\n"
     ]
    }
   ],
   "source": [
    "file = np.loadtxt(open(\"XReturns.csv\"), delimiter=\",\")\n",
    "X = file\n",
    "\n",
    "# X is a 200x48 matrix, 200 time steps and 48 assets\n",
    "# we will select the optimal wight of each asset to minimize the Risk (volatility) of the Portfolio"
   ]
  },
  {
   "cell_type": "code",
   "execution_count": 16,
   "metadata": {},
   "outputs": [],
   "source": [
    "# First 120 steps will be use for training and the rest (80) for testing\n",
    "XTrain = X[0:120,:]\n",
    "XTest = X[120:200,:]\n",
    "\n",
    "XTrain = XTrain.transpose()\n",
    "XTest = XTest.transpose()\n",
    "\n",
    "# Clculating Covariance matrices\n",
    "# [we get 48x48 matrices, each value represents the covariance of one asset against one other]\n",
    "Cov_Train = np.cov(XTrain)\n",
    "Cov_Test = np.cov(XTest)\n",
    "\n",
    "p = 48\n",
    "vol_Test = np.zeros((1000,1))\n",
    "lambdas = np.zeros((1000,1))\n",
    "cont = 0\n",
    "\n",
    "for i in np.arange(0,10,.01):\n",
    "    inv_Cov_Train = np.linalg.inv(Cov_Train+i*np.identity(p)) # Recuerda que i es lambda\n",
    "    z = np.sum(inv_Cov_Train)\n",
    "    w = np.sum(inv_Cov_Train,axis=1)/z\n",
    "    vol_Test[cont] = w.transpose().dot(Cov_Test).dot(w)\n",
    "    lambdas[cont] = i # Solamente acumula los lambdas\n",
    "    cont = cont+1   "
   ]
  },
  {
   "cell_type": "code",
   "execution_count": 32,
   "metadata": {},
   "outputs": [
    {
     "data": {
      "image/png": "[encoded data removed]",
      "text/plain": [
       "<Figure size 600x400 with 1 Axes>"
      ]
     },
     "metadata": {
      "needs_background": "light"
     },
     "output_type": "display_data"
    }
   ],
   "source": [
    "plot0 = plt.figure(0,figsize=(6,4), dpi=100)\n",
    "plt.title('Minimizing Lambda')\n",
    "plt.plot(lambdas,vol_Test,'g' )\n",
    "plt.xlabel('Lambda')\n",
    "plt.ylabel('Volatility')\n",
    "plt.grid()\n",
    "plt.show()"
   ]
  },
  {
   "cell_type": "code",
   "execution_count": 30,
   "metadata": {},
   "outputs": [
    {
     "name": "stdout",
     "output_type": "stream",
     "text": [
      "Asset        Weight\n",
      "  1    0.08560365061709004\n",
      "  2    0.08331023240359364\n",
      "  3    0.031796112328329205\n",
      "  4    0.07296784046159457\n",
      "  5    0.03205825783721221\n",
      "  6    -0.03597741154015003\n",
      "  7    0.021044899510456554\n",
      "  8    0.035785571690846604\n",
      "  9    0.0331428467714681\n",
      "  10    0.03735531674851317\n",
      "  11    -0.05941369177466519\n",
      "  12    0.013921378427290526\n",
      "  13    0.04738029238266714\n",
      "  14    -0.0017349643943913922\n",
      "  15    0.12866887160981372\n",
      "  16    0.07888605844652258\n",
      "  17    -0.008661595241488136\n",
      "  18    -0.07232286631003469\n",
      "  19    0.02581595941345284\n",
      "  20    0.0526897008068009\n",
      "  21    -0.0015984373044144937\n",
      "  22    0.013275408250489352\n",
      "  23    -0.013558299496167605\n",
      "  24    0.003933000430081748\n",
      "  25    0.018738001656508768\n",
      "  26    -0.00767061714154138\n",
      "  27    -0.047417476971620375\n",
      "  28    -0.03568406797529227\n",
      "  29    0.015067902204976143\n",
      "  30    0.008665114568755952\n",
      "  31    0.1225823126535635\n",
      "  32    0.0506742067357646\n",
      "  33    0.0879152591177243\n",
      "  34    0.01923453638547372\n",
      "  35    -0.019810132668349127\n",
      "  36    -0.029300100788065407\n",
      "  37    -0.07184415494724758\n",
      "  38    0.03770824901874184\n",
      "  39    0.02413486290800696\n",
      "  40    -0.0003073189567349962\n",
      "  41    -0.006143055563952045\n",
      "  42    -0.014222947979436594\n",
      "  43    0.003790135173510404\n",
      "  44    0.004026392525149226\n",
      "  45    0.05234990716480214\n",
      "  46    0.064035546006342\n",
      "  47    0.050691189701590526\n",
      "  48    0.06841812509641851\n"
     ]
    }
   ],
   "source": [
    "# Computing the value of lambda that minimizes volatility, from graph we can see is around 3\n",
    "min_vol = np.where(vol_Test == min(vol_Test))\n",
    "lambda_min = lambdas[min_vol]\n",
    "\n",
    "# Computing weights of 48 assets with minimizing lambda\n",
    "inv_Cov_Train = np.linalg.inv(Cov_Train+lambda_min*np.identity(p))\n",
    "z = np.sum(inv_Cov_Train)\n",
    "w = np.sum(inv_Cov_Train,axis=1)/z\n",
    "\n",
    "# Weight of every asset, remember that negative weights means shorting\n",
    "print(\"Asset        Weight\")\n",
    "for i in range(48):\n",
    "    print(\" \",i+1,\"  \",w[i])\n"
   ]
  },
  {
   "cell_type": "code",
   "execution_count": null,
   "metadata": {},
   "outputs": [],
   "source": []
  }
 ],
 "metadata": {
  "kernelspec": {
   "display_name": "Python 3",
   "language": "python",
   "name": "python3"
  },
  "language_info": {
   "codemirror_mode": {
    "name": "ipython",
    "version": 3
   },
   "file_extension": ".py",
   "mimetype": "text/x-python",
   "name": "python",
   "nbconvert_exporter": "python",
   "pygments_lexer": "ipython3",
   "version": "3.8.3"
  },
  "latex_envs": {
   "LaTeX_envs_menu_present": true,
   "autoclose": false,
   "autocomplete": true,
   "bibliofile": "biblio.bib",
   "cite_by": "apalike",
   "current_citInitial": 1,
   "eqLabelWithNumbers": true,
   "eqNumInitial": 1,
   "hotkeys": {
    "equation": "Ctrl-E",
    "itemize": "Ctrl-I"
   },
   "labels_anchors": false,
   "latex_user_defs": false,
   "report_style_numbering": false,
   "user_envs_cfg": false
  },
  "nbTranslate": {
   "displayLangs": [
    "*"
   ],
   "hotkey": "alt-t",
   "langInMainMenu": true,
   "sourceLang": "en",
   "targetLang": "fr",
   "useGoogleTranslate": true
  },
  "toc": {
   "base_numbering": 1,
   "nav_menu": {},
   "number_sections": true,
   "sideBar": true,
   "skip_h1_title": false,
   "title_cell": "Table of Contents",
   "title_sidebar": "Contents",
   "toc_cell": false,
   "toc_position": {},
   "toc_section_display": true,
   "toc_window_display": false
  }
 },
 "nbformat": 4,
 "nbformat_minor": 4
}
