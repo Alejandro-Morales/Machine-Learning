{
 "cells": [
  {
   "cell_type": "code",
   "execution_count": 2,
   "metadata": {},
   "outputs": [],
   "source": [
    "#import modules\n",
    "import numpy as np\n",
    "import matplotlib.pyplot as plt"
   ]
  },
  {
   "cell_type": "code",
   "execution_count": 3,
   "metadata": {},
   "outputs": [],
   "source": [
    "#Gradient Descent Ridge Regression\n",
    "def GD_Rregression(y,X,alpha,tol,lam) : \n",
    "    \n",
    "    N = len(X);\n",
    "    p = len(X[0]) #Number of columns in X\n",
    "    beta = np.zeros([p,1]);\n",
    "    y = y.reshape(N,1)\n",
    "    err =1.0;\n",
    "    iterations=0;\n",
    "    \n",
    "    #Gradient Descent Method\n",
    "    while err > tol:\n",
    "        J = (np.transpose(X.dot(beta)-y).dot(X.dot(beta)-y))+(lam*(np.transpose(beta).dot(beta)));\n",
    "        gradient = (np.transpose(X.dot(beta)-y).dot(X))\n",
    "        gradient = (np.transpose(X.dot(beta)-y).dot(X));\n",
    "        gradient = np.transpose(gradient)+((lam*beta));\n",
    "        beta =beta - ((alpha/N)*2*(gradient));\n",
    "        err = np.absolute(J-(np.transpose(X.dot(beta)-y).dot(X.dot(beta)-y)))-(lam*(np.transpose(beta).dot(beta)));\n",
    "    return beta\n"
   ]
  },
  {
   "cell_type": "code",
   "execution_count": 4,
   "metadata": {},
   "outputs": [
    {
     "data": {
      "image/png": "[encoded data removed]",
      "text/plain": [
       "<Figure size 500x300 with 1 Axes>"
      ]
     },
     "metadata": {
      "needs_background": "light"
     },
     "output_type": "display_data"
    }
   ],
   "source": [
    "file = np.loadtxt(open(\"X.csv\"), delimiter=\",\")\n",
    "X = file\n",
    "file = np.loadtxt(open(\"y.csv\"), delimiter=\",\")\n",
    "y = file\n",
    "\n",
    "p = (len(X[1,:])) #Number features (X columns)\n",
    "N = (len(y))     #Number of data points\n",
    "\n",
    "#Train model with 70% of the values\n",
    "XTrain = X[0:70,:]\n",
    "yTrain = y[0:70]\n",
    "\n",
    "#Test model with 30% of the values\n",
    "XTest = X[70:100,:]\n",
    "yTest= y[70:100]\n",
    "\n",
    "MSE = np.zeros([1000,1]) \n",
    "L = np.zeros([1000,1])\n",
    "\n",
    "for i in range(0,1000):\n",
    "    lamb = i/100\n",
    "    transX = np.transpose(XTrain)\n",
    "    beta = np.linalg.inv((transX.dot(XTrain))+lamb*np.identity(p))\n",
    "    beta = beta.dot(transX)\n",
    "    beta = beta.dot(yTrain)\n",
    "    #beta = GD_Rregression(yTrain,XTrain,0.1,1e-9,lamb)\n",
    "    yHat = XTest.dot(beta)\n",
    "    L[i] = lamb\n",
    "    #MSE[i] = np.mean((yHat-yTest)**2)  #Calculating the mean of (yHat[k]-yTest[k])**2\n",
    "    suma =0\n",
    "    #We now calculate the mean in a for loop because with the abalytical beta we get an array of 30 elements\n",
    "    #And with gradient descent we get a matrix of 30 by 1\n",
    "    for k in range(len(yHat)): # Calculating the mean of (yHat[k]-yTest[k])**2\n",
    "        suma = suma + (yHat[k]-yTest[k])**2\n",
    "    MSE[i] = suma/len(yHat)\n",
    "\n",
    "    \n",
    "plot0 = plt.figure(0,figsize=(5,3), dpi=100)\n",
    "plt.title('Minimizing MSE')\n",
    "plt.plot(L,MSE,'g' )\n",
    "plt.xlabel('Lambda')\n",
    "plt.ylabel('Mean Square Error')\n",
    "plt.grid()\n",
    "plt.show()\n"
   ]
  },
  {
   "cell_type": "code",
   "execution_count": null,
   "metadata": {},
   "outputs": [],
   "source": [
    "#We can observe that the optimal value of lambda that minimizes the error will be arround 4.7"
   ]
  },
  {
   "cell_type": "code",
   "execution_count": null,
   "metadata": {},
   "outputs": [],
   "source": []
  }
 ],
 "metadata": {
  "kernelspec": {
   "display_name": "Python 3",
   "language": "python",
   "name": "python3"
  },
  "language_info": {
   "codemirror_mode": {
    "name": "ipython",
    "version": 3
   },
   "file_extension": ".py",
   "mimetype": "text/x-python",
   "name": "python",
   "nbconvert_exporter": "python",
   "pygments_lexer": "ipython3",
   "version": "3.8.3"
  },
  "latex_envs": {
   "LaTeX_envs_menu_present": true,
   "autoclose": false,
   "autocomplete": true,
   "bibliofile": "biblio.bib",
   "cite_by": "apalike",
   "current_citInitial": 1,
   "eqLabelWithNumbers": true,
   "eqNumInitial": 1,
   "hotkeys": {
    "equation": "Ctrl-E",
    "itemize": "Ctrl-I"
   },
   "labels_anchors": false,
   "latex_user_defs": false,
   "report_style_numbering": false,
   "user_envs_cfg": false
  },
  "nbTranslate": {
   "displayLangs": [
    "*"
   ],
   "hotkey": "alt-t",
   "langInMainMenu": true,
   "sourceLang": "en",
   "targetLang": "fr",
   "useGoogleTranslate": true
  },
  "toc": {
   "base_numbering": 1,
   "nav_menu": {},
   "number_sections": true,
   "sideBar": true,
   "skip_h1_title": false,
   "title_cell": "Table of Contents",
   "title_sidebar": "Contents",
   "toc_cell": false,
   "toc_position": {},
   "toc_section_display": true,
   "toc_window_display": false
  }
 },
 "nbformat": 4,
 "nbformat_minor": 4
}
